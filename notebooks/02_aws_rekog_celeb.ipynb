{
 "cells": [
  {
   "cell_type": "markdown",
   "metadata": {},
   "source": [
    "# AWS Rekognition Celebrity Recognition API\n",
    "Nora Webb Williams | August 15, 2018\n",
    "\n",
    "### Purpose:\n",
    "\n",
    "To demonstrate how to run images through the AWS Rekognition API to do Celebrity Recognition. The resulting csv has a row for each detected celebrity in each image. "
   ]
  },
  {
   "cell_type": "markdown",
   "metadata": {},
   "source": [
    "### Modules"
   ]
  },
  {
   "cell_type": "code",
   "execution_count": 7,
   "metadata": {
    "collapsed": true
   },
   "outputs": [],
   "source": [
    "import csv\n",
    "import boto3 \n",
    "import pickle\n",
    "import os"
   ]
  },
  {
   "cell_type": "markdown",
   "metadata": {},
   "source": [
    "###  Paths"
   ]
  },
  {
   "cell_type": "code",
   "execution_count": 8,
   "metadata": {
    "collapsed": false
   },
   "outputs": [],
   "source": [
    "########### Paths\n",
    "### MUST ADJUST HERE (1/2)\n",
    "# Path to where your want to save the resulting labels\n",
    "rekog_results_dir = 'path_to_where_you_want_to_save_labels'\n",
    "# e.g.:\n",
    "#rekog_results_dir = 'C:/Users/Nora/Desktop/auto_tagger_example/results/'\n",
    "\n",
    "# Path to where your images are\n",
    "rekog_images_dir = 'path_to_where_your_images_are'\n",
    "# e.g.:\n",
    "#rekog_images_dir = 'C:/Users/Nora/Desktop/auto_tagger_example/data/'"
   ]
  },
  {
   "cell_type": "markdown",
   "metadata": {},
   "source": [
    "### Connect to Rekognition API"
   ]
  },
  {
   "cell_type": "code",
   "execution_count": 9,
   "metadata": {
    "collapsed": false
   },
   "outputs": [
    {
     "ename": "FileNotFoundError",
     "evalue": "[Errno 2] No such file or directory: 'path_to_your_saved_AWS_access_keys.csv'",
     "output_type": "error",
     "traceback": [
      "\u001b[1;31m---------------------------------------------------------------------------\u001b[0m",
      "\u001b[1;31mFileNotFoundError\u001b[0m                         Traceback (most recent call last)",
      "\u001b[1;32m<ipython-input-9-be7827d205af>\u001b[0m in \u001b[0;36m<module>\u001b[1;34m()\u001b[0m\n\u001b[0;32m     12\u001b[0m \u001b[1;33m\u001b[0m\u001b[0m\n\u001b[0;32m     13\u001b[0m \u001b[1;31m### MUST ADJUST HERE (2/2)\u001b[0m\u001b[1;33m\u001b[0m\u001b[1;33m\u001b[0m\u001b[0m\n\u001b[1;32m---> 14\u001b[1;33m \u001b[1;32mwith\u001b[0m \u001b[0mopen\u001b[0m\u001b[1;33m(\u001b[0m\u001b[1;34m'path_to_your_saved_AWS_access_keys.csv'\u001b[0m\u001b[1;33m,\u001b[0m \u001b[0mnewline\u001b[0m\u001b[1;33m=\u001b[0m\u001b[1;34m''\u001b[0m\u001b[1;33m)\u001b[0m \u001b[1;32mas\u001b[0m \u001b[0mcsvfile\u001b[0m\u001b[1;33m:\u001b[0m\u001b[1;33m\u001b[0m\u001b[0m\n\u001b[0m\u001b[0;32m     15\u001b[0m \u001b[1;33m\u001b[0m\u001b[0m\n\u001b[0;32m     16\u001b[0m \u001b[1;31m# e.g.:\u001b[0m\u001b[1;33m\u001b[0m\u001b[1;33m\u001b[0m\u001b[0m\n",
      "\u001b[1;31mFileNotFoundError\u001b[0m: [Errno 2] No such file or directory: 'path_to_your_saved_AWS_access_keys.csv'"
     ]
    }
   ],
   "source": [
    "# Read in your personal keys\n",
    "# You can hard code your access key ID and secret key ID into the script, \n",
    "# but this is not recommended\n",
    "\n",
    "personal_access_key = \"your_personal_access_key\"\n",
    "secret_access_key = \"your_secret_access_key\"\n",
    "\n",
    "# Instead we recommend storing your keys securely in a csv or text file.\n",
    "# For example, if you have saved your keys in a csv:\n",
    "\n",
    "credentials = []\n",
    "\n",
    "### MUST ADJUST HERE (2/2)\n",
    "with open('path_to_your_saved_AWS_access_keys.csv', newline='') as csvfile:\n",
    "\n",
    "# e.g.:\n",
    "#with open('C:/Users/Nora/Desktop/auto_tagger_example/keys/AWS_personal_nora_admin_credentials.csv', newline='') as csvfile:\n",
    "    reader = csv.DictReader(csvfile)\n",
    "    for row in reader:\n",
    "        credentials.append(row)\n",
    "\n",
    "personal_access_key = credentials[0]['Access key ID']\n",
    "secret_access_key = credentials[0]['Secret access key']\n",
    "\n",
    "# Initialize the boto client to access the Rekogniton api\n",
    "client=boto3.client('rekognition','us-east-1', # or choose the best region for your work, \n",
    "                                               # e.g. the location of your S3 bucket if using that method to store images\n",
    "                    aws_access_key_id = personal_access_key, \n",
    "                    aws_secret_access_key = secret_access_key) "
   ]
  },
  {
   "cell_type": "markdown",
   "metadata": {},
   "source": [
    "### Create a list of images to run through the API"
   ]
  },
  {
   "cell_type": "code",
   "execution_count": 10,
   "metadata": {
    "collapsed": false
   },
   "outputs": [
    {
     "ename": "FileNotFoundError",
     "evalue": "[WinError 3] The system cannot find the path specified: 'path_to_where_your_images_are'",
     "output_type": "error",
     "traceback": [
      "\u001b[1;31m---------------------------------------------------------------------------\u001b[0m",
      "\u001b[1;31mFileNotFoundError\u001b[0m                         Traceback (most recent call last)",
      "\u001b[1;32m<ipython-input-10-3bce209167ff>\u001b[0m in \u001b[0;36m<module>\u001b[1;34m()\u001b[0m\n\u001b[0;32m      1\u001b[0m \u001b[1;31m# Make a list of all the images in the rekog_data_dir you created\u001b[0m\u001b[1;33m\u001b[0m\u001b[1;33m\u001b[0m\u001b[0m\n\u001b[1;32m----> 2\u001b[1;33m \u001b[0mlocal_images\u001b[0m \u001b[1;33m=\u001b[0m \u001b[0mos\u001b[0m\u001b[1;33m.\u001b[0m\u001b[0mlistdir\u001b[0m\u001b[1;33m(\u001b[0m\u001b[0mrekog_images_dir\u001b[0m\u001b[1;33m)\u001b[0m\u001b[1;33m\u001b[0m\u001b[0m\n\u001b[0m",
      "\u001b[1;31mFileNotFoundError\u001b[0m: [WinError 3] The system cannot find the path specified: 'path_to_where_your_images_are'"
     ]
    }
   ],
   "source": [
    "# Make a list of all the images in the rekog_data_dir you created\n",
    "local_images = os.listdir(rekog_images_dir)"
   ]
  },
  {
   "cell_type": "markdown",
   "metadata": {},
   "source": [
    "### Run each image through the API and store the results"
   ]
  },
  {
   "cell_type": "code",
   "execution_count": 11,
   "metadata": {
    "collapsed": false,
    "scrolled": false
   },
   "outputs": [
    {
     "ename": "FileNotFoundError",
     "evalue": "[Errno 2] No such file or directory: 'path_to_where_your_images_areex_1.jpg'",
     "output_type": "error",
     "traceback": [
      "\u001b[1;31m---------------------------------------------------------------------------\u001b[0m",
      "\u001b[1;31mFileNotFoundError\u001b[0m                         Traceback (most recent call last)",
      "\u001b[1;32m<ipython-input-11-247ae729344d>\u001b[0m in \u001b[0;36m<module>\u001b[1;34m()\u001b[0m\n\u001b[0;32m      4\u001b[0m \u001b[1;32mfor\u001b[0m \u001b[0mimageFile\u001b[0m \u001b[1;32min\u001b[0m \u001b[0mlocal_images\u001b[0m\u001b[1;33m:\u001b[0m\u001b[1;33m\u001b[0m\u001b[0m\n\u001b[0;32m      5\u001b[0m \u001b[1;33m\u001b[0m\u001b[0m\n\u001b[1;32m----> 6\u001b[1;33m     \u001b[1;32mwith\u001b[0m \u001b[0mopen\u001b[0m\u001b[1;33m(\u001b[0m\u001b[0mrekog_images_dir\u001b[0m \u001b[1;33m+\u001b[0m \u001b[0mimageFile\u001b[0m\u001b[1;33m,\u001b[0m \u001b[1;34m'rb'\u001b[0m\u001b[1;33m)\u001b[0m \u001b[1;32mas\u001b[0m \u001b[0mimage\u001b[0m\u001b[1;33m:\u001b[0m\u001b[1;33m\u001b[0m\u001b[0m\n\u001b[0m\u001b[0;32m      7\u001b[0m         \u001b[0mresponse\u001b[0m \u001b[1;33m=\u001b[0m \u001b[0mclient\u001b[0m\u001b[1;33m.\u001b[0m\u001b[0mrecognize_celebrities\u001b[0m\u001b[1;33m(\u001b[0m\u001b[0mImage\u001b[0m\u001b[1;33m=\u001b[0m\u001b[1;33m{\u001b[0m\u001b[1;34m'Bytes'\u001b[0m\u001b[1;33m:\u001b[0m \u001b[0mimage\u001b[0m\u001b[1;33m.\u001b[0m\u001b[0mread\u001b[0m\u001b[1;33m(\u001b[0m\u001b[1;33m)\u001b[0m\u001b[1;33m}\u001b[0m\u001b[1;33m)\u001b[0m\u001b[1;33m\u001b[0m\u001b[0m\n\u001b[0;32m      8\u001b[0m \u001b[1;33m\u001b[0m\u001b[0m\n",
      "\u001b[1;31mFileNotFoundError\u001b[0m: [Errno 2] No such file or directory: 'path_to_where_your_images_areex_1.jpg'"
     ]
    }
   ],
   "source": [
    "holder_content_celeb = []\n",
    "\n",
    "### Looping\n",
    "for imageFile in local_images:\n",
    "\n",
    "    with open(rekog_images_dir + imageFile, 'rb') as image:\n",
    "        response = client.recognize_celebrities(Image={'Bytes': image.read()})\n",
    "    \n",
    "    print('Detecting faces for ' + imageFile)\n",
    "    \n",
    "    ## If no celebrites detected, still save the API info:\n",
    "    if len(response['CelebrityFaces']) == 0:\n",
    "        print (\"No Celebrities Detected\")\n",
    "        temp_dict = {}\n",
    "        temp_dict[\"image_id\"] = imageFile\n",
    "        temp_dict[\"celeb_full_response\"] = \"\"\n",
    "        temp_dict[\"celeb_num\"] = \"\"\n",
    "        temp_dict[\"celeb_urls\"] = \"\"\n",
    "        temp_dict[\"celeb_name\"] = \"\"\n",
    "        temp_dict[\"celeb_id\"] = \"\"\n",
    "        temp_dict[\"celeb_face_data\"] = \"\"\n",
    "        temp_dict[\"celeb_face_conf\"] = \"\"\n",
    "        temp_dict[\"celeb_match_conf\"] = \"\"\n",
    "        temp_dict['celeb_metadata'] = response['ResponseMetadata']\n",
    "        temp_dict['celeb_orient_correct'] = response['OrientationCorrection']        \n",
    "        holder_content_celeb.append(temp_dict)\n",
    "    \n",
    "    ## If celebrities are detected, save a dictionary for each celebrity:\n",
    "    else:\n",
    "        celeb_counter = 1\n",
    "        \n",
    "        for face in response['CelebrityFaces']:\n",
    "            print (face['Name'] + ' : ' + str(face['MatchConfidence']))\n",
    "            \n",
    "            temp_dict = {}\n",
    "            temp_dict[\"image_id\"] = imageFile\n",
    "            temp_dict[\"celeb_full_response\"] = face \n",
    "            temp_dict[\"celeb_num\"] = celeb_counter\n",
    "            temp_dict[\"celeb_urls\"] = face['Urls']\n",
    "            temp_dict[\"celeb_name\"] = face['Name']\n",
    "            temp_dict[\"celeb_id\"] = face['Id']\n",
    "            temp_dict[\"celeb_face_data\"] = face['Face']\n",
    "            temp_dict[\"celeb_face_conf\"] = face['Face']['Confidence']\n",
    "            temp_dict[\"celeb_match_conf\"] = face['MatchConfidence']\n",
    "            temp_dict['celeb_metadata'] = response['ResponseMetadata']\n",
    "            temp_dict['celeb_orient_correct'] = response['OrientationCorrection']\n",
    "            celeb_counter += 1\n",
    "            holder_content_celeb.append(temp_dict)"
   ]
  },
  {
   "cell_type": "markdown",
   "metadata": {},
   "source": [
    "### Write out the results to a csv"
   ]
  },
  {
   "cell_type": "code",
   "execution_count": 13,
   "metadata": {
    "collapsed": true
   },
   "outputs": [],
   "source": [
    "# Write out the results to a csv\n",
    "with open(rekog_results_dir + 'awsrekognition_celeb_detect.csv', 'w', newline = '') as csvfile:\n",
    "    fieldnames = ['image_id', 'celeb_full_response',\n",
    "                  'celeb_num', 'celeb_urls',\n",
    "                  'celeb_name', 'celeb_id',\n",
    "                  'celeb_face_data', 'celeb_face_conf', \n",
    "                  'celeb_match_conf', 'celeb_metadata',\n",
    "                  'celeb_orient_correct']\n",
    "    writer = csv.DictWriter(csvfile, fieldnames=fieldnames)\n",
    "    writer.writeheader()\n",
    "    for entry in holder_content_celeb:\n",
    "        writer.writerow(entry)"
   ]
  },
  {
   "cell_type": "code",
   "execution_count": null,
   "metadata": {
    "collapsed": true
   },
   "outputs": [],
   "source": []
  }
 ],
 "metadata": {
  "anaconda-cloud": {},
  "kernelspec": {
   "display_name": "Python [conda env:python3point5]",
   "language": "python",
   "name": "conda-env-python3point5-py"
  },
  "language_info": {
   "codemirror_mode": {
    "name": "ipython",
    "version": 3
   },
   "file_extension": ".py",
   "mimetype": "text/x-python",
   "name": "python",
   "nbconvert_exporter": "python",
   "pygments_lexer": "ipython3",
   "version": "3.5.3"
  }
 },
 "nbformat": 4,
 "nbformat_minor": 2
}
